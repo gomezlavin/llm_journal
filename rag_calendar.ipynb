{
 "cells": [
  {
   "cell_type": "code",
   "execution_count": 5,
   "metadata": {},
   "outputs": [
    {
     "name": "stdout",
     "output_type": "stream",
     "text": [
      "Number of calendar events added: 2\n",
      "Calendar Events:\n",
      "Event 1:\n",
      "Status: confirmed, Summary: LLM: running, Start time: 2024-09-22T18:00:00-03:00, End time: 2024-09-22T18:30:00-03:00, Organizer: llm_test (12ebddeb98247a1e1d4ed5580f80e5664cd7c1e4deaaf2c7619fd5f873cd57cf@group.calendar.google.com)\n",
      "--------------------------------------------------\n",
      "Event 2:\n",
      "Status: confirmed, Summary: llm: meditation, Start time: 2024-09-22T10:00:00-03:00, End time: 2024-09-22T10:15:00-03:00, Organizer: llm_test (12ebddeb98247a1e1d4ed5580f80e5664cd7c1e4deaaf2c7619fd5f873cd57cf@group.calendar.google.com)\n",
      "--------------------------------------------------\n"
     ]
    }
   ],
   "source": [
    "from custom_calendar_reader import GoogleCalendarReader\n",
    "import datetime\n",
    "from dotenv import load_dotenv\n",
    "\n",
    "load_dotenv()\n",
    "\n",
    "# Instantiate the GoogleCalendarReader\n",
    "calendar_reader = GoogleCalendarReader()\n",
    "\n",
    "# Get the start of the current week\n",
    "today = datetime.date.today()\n",
    "start_of_week = today - datetime.timedelta(days=today.weekday())\n",
    "\n",
    "# Load this week's events\n",
    "calendar_documents = calendar_reader.load_data(\n",
    "    number_of_results=100,\n",
    "    start_date=start_of_week,\n",
    "    local_data_filename=os.getenv(\"GCAL_TEST_DATAFILE\")\n",
    ")\n",
    "\n",
    "print(f\"Number of calendar events added: {len(calendar_documents)}\")\n",
    "\n",
    "# Print calendar events for debugging\n",
    "print(\"Calendar Events:\")\n",
    "for i, event in enumerate(calendar_documents, 1):\n",
    "    print(f\"Event {i}:\")\n",
    "    print(event.text)\n",
    "    print(\"-\" * 50)\n"
   ]
  },
  {
   "cell_type": "code",
   "execution_count": 6,
   "metadata": {},
   "outputs": [
    {
     "name": "stdout",
     "output_type": "stream",
     "text": [
      "Query: what are all the activities I did in the calendar?\n",
      "Response: You participated in a meditation session and a running activity on the specified date.\n"
     ]
    }
   ],
   "source": [
    "\n",
    "from llama_index.core import VectorStoreIndex, SimpleDirectoryReader\n",
    "from llama_index.core.query_engine import RetrieverQueryEngine\n",
    "from llama_index.core.retrievers import VectorIndexRetriever\n",
    "\n",
    "# Create a VectorStoreIndex from the calendar documents\n",
    "index = VectorStoreIndex.from_documents(calendar_documents)\n",
    "\n",
    "# Create a retriever\n",
    "retriever = VectorIndexRetriever(index=index)\n",
    "\n",
    "# Create a query engine\n",
    "query_engine = RetrieverQueryEngine(retriever=retriever)\n",
    "\n",
    "# Function to query the events\n",
    "def query_events(query_text):\n",
    "    response = query_engine.query(query_text)\n",
    "    return response\n",
    "\n",
    "# Example usage\n",
    "query = \"what are all the activities I did in the calendar?\"\n",
    "result = query_events(query)\n",
    "print(f\"Query: {query}\")\n",
    "print(f\"Response: {result}\")\n",
    "\n",
    "# You can add more queries or create an interactive loop for multiple queries\n",
    "\n"
   ]
  }
 ],
 "metadata": {
  "kernelspec": {
   "display_name": ".venv",
   "language": "python",
   "name": "python3"
  },
  "language_info": {
   "codemirror_mode": {
    "name": "ipython",
    "version": 3
   },
   "file_extension": ".py",
   "mimetype": "text/x-python",
   "name": "python",
   "nbconvert_exporter": "python",
   "pygments_lexer": "ipython3",
   "version": "3.12.5"
  }
 },
 "nbformat": 4,
 "nbformat_minor": 2
}
