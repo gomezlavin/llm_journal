{
 "cells": [
  {
   "cell_type": "code",
   "execution_count": 1,
   "metadata": {},
   "outputs": [
    {
     "ename": "NameError",
     "evalue": "name 'os' is not defined",
     "output_type": "error",
     "traceback": [
      "\u001b[0;31m---------------------------------------------------------------------------\u001b[0m",
      "\u001b[0;31mNameError\u001b[0m                                 Traceback (most recent call last)",
      "Cell \u001b[0;32mIn[1], line 18\u001b[0m\n\u001b[1;32m     12\u001b[0m start_of_week \u001b[38;5;241m=\u001b[39m today \u001b[38;5;241m-\u001b[39m datetime\u001b[38;5;241m.\u001b[39mtimedelta(days\u001b[38;5;241m=\u001b[39mtoday\u001b[38;5;241m.\u001b[39mweekday())\n\u001b[1;32m     14\u001b[0m \u001b[38;5;66;03m# Load this week's events\u001b[39;00m\n\u001b[1;32m     15\u001b[0m calendar_documents \u001b[38;5;241m=\u001b[39m calendar_reader\u001b[38;5;241m.\u001b[39mload_data(\n\u001b[1;32m     16\u001b[0m     number_of_results\u001b[38;5;241m=\u001b[39m\u001b[38;5;241m100\u001b[39m,\n\u001b[1;32m     17\u001b[0m     start_date\u001b[38;5;241m=\u001b[39mstart_of_week,\n\u001b[0;32m---> 18\u001b[0m     local_data_filename\u001b[38;5;241m=\u001b[39m\u001b[43mos\u001b[49m\u001b[38;5;241m.\u001b[39mgetenv(\u001b[38;5;124m\"\u001b[39m\u001b[38;5;124mGCAL_TEST_DATAFILE\u001b[39m\u001b[38;5;124m\"\u001b[39m)\n\u001b[1;32m     19\u001b[0m )\n\u001b[1;32m     21\u001b[0m \u001b[38;5;28mprint\u001b[39m(\u001b[38;5;124mf\u001b[39m\u001b[38;5;124m\"\u001b[39m\u001b[38;5;124mNumber of calendar events added: \u001b[39m\u001b[38;5;132;01m{\u001b[39;00m\u001b[38;5;28mlen\u001b[39m(calendar_documents)\u001b[38;5;132;01m}\u001b[39;00m\u001b[38;5;124m\"\u001b[39m)\n\u001b[1;32m     23\u001b[0m \u001b[38;5;66;03m# Print calendar events for debugging\u001b[39;00m\n",
      "\u001b[0;31mNameError\u001b[0m: name 'os' is not defined"
     ]
    }
   ],
   "source": [
    "from custom_calendar_reader import GoogleCalendarReader\n",
    "import datetime\n",
    "from dotenv import load_dotenv\n",
    "import os\n",
    "\n",
    "load_dotenv()\n",
    "\n",
    "# Instantiate the GoogleCalendarReader\n",
    "calendar_reader = GoogleCalendarReader()\n",
    "\n",
    "# Get the start of the current week\n",
    "today = datetime.date.today()\n",
    "start_of_week = today - datetime.timedelta(days=today.weekday())\n",
    "\n",
    "# Load this week's events\n",
    "calendar_documents = calendar_reader.load_data(\n",
    "    number_of_results=100,\n",
    "    start_date=start_of_week,\n",
    "    local_data_filename=os.getenv(\"GCAL_TEST_DATAFILE\")\n",
    ")\n",
    "\n",
    "print(f\"Number of calendar events added: {len(calendar_documents)}\")\n",
    "\n",
    "# Print calendar events for debugging\n",
    "print(\"Calendar Events:\")\n",
    "for i, event in enumerate(calendar_documents, 1):\n",
    "    print(f\"Event {i}:\")\n",
    "    print(event.text)\n",
    "    print(\"-\" * 50)\n"
   ]
  },
  {
   "cell_type": "code",
   "execution_count": 6,
   "metadata": {},
   "outputs": [
    {
     "name": "stdout",
     "output_type": "stream",
     "text": [
      "Query: what are all the activities I did in the calendar?\n",
      "Response: You participated in a meditation session and a running activity on the specified date.\n"
     ]
    }
   ],
   "source": [
    "\n",
    "from llama_index.core import VectorStoreIndex, SimpleDirectoryReader\n",
    "from llama_index.core.query_engine import RetrieverQueryEngine\n",
    "from llama_index.core.retrievers import VectorIndexRetriever\n",
    "\n",
    "# Create a VectorStoreIndex from the calendar documents\n",
    "index = VectorStoreIndex.from_documents(calendar_documents)\n",
    "\n",
    "# Create a retriever\n",
    "retriever = VectorIndexRetriever(index=index)\n",
    "\n",
    "# Create a query engine\n",
    "query_engine = RetrieverQueryEngine(retriever=retriever)\n",
    "\n",
    "# Function to query the events\n",
    "def query_events(query_text):\n",
    "    response = query_engine.query(query_text)\n",
    "    return response\n",
    "\n",
    "# Example usage\n",
    "query = \"what are all the activities I did in the calendar?\"\n",
    "result = query_events(query)\n",
    "print(f\"Query: {query}\")\n",
    "print(f\"Response: {result}\")\n",
    "\n",
    "# You can add more queries or create an interactive loop for multiple queries\n",
    "\n"
   ]
  }
 ],
 "metadata": {
  "kernelspec": {
   "display_name": ".venv",
   "language": "python",
   "name": "python3"
  },
  "language_info": {
   "codemirror_mode": {
    "name": "ipython",
    "version": 3
   },
   "file_extension": ".py",
   "mimetype": "text/x-python",
   "name": "python",
   "nbconvert_exporter": "python",
   "pygments_lexer": "ipython3",
   "version": "3.12.6"
  }
 },
 "nbformat": 4,
 "nbformat_minor": 2
}
